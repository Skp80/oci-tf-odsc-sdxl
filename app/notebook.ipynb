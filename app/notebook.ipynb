{
 "cells": [
  {
   "cell_type": "markdown",
   "id": "3f87a275",
   "metadata": {},
   "source": [
    "# Fine stable diffusion XL"
   ]
  },
  {
   "cell_type": "code",
   "execution_count": null,
   "id": "c2d48908",
   "metadata": {},
   "outputs": [],
   "source": [
    "%%capture\n",
    "import ads\n",
    "import oci\n",
    "import os\n",
    "import ocifs\n",
    "from oci.object_storage import ObjectStorageClient\n",
    "from datetime import datetime, timedelta\n",
    "\n",
    "ads.set_auth(auth='resource_principal')\n",
    "rps = oci.auth.signers.get_resource_principals_signer()\n",
    "\n",
    "# Object storage client\n",
    "object_storage_client = ObjectStorageClient(config={}, signer=rps)\n",
    "OBJECT_STORAGE_NAMESPACE = object_storage_client.get_namespace().data\n",
    "\n",
    "os.environ['namespace'] = OBJECT_STORAGE_NAMESPACE\n",
    "LOG_GROUP_ID = os.environ['loggroup_ocid']\n",
    "LOG_ID = os.environ['log_ocid']\n",
    "BUCKET_NAME = os.environ['bucket_name']\n",
    "\n",
    "INPUT_FOLDER = \"oci://{bucket}@{namespace}/sdxl/input/\".format(bucket=BUCKET_NAME, namespace=OBJECT_STORAGE_NAMESPACE)\n",
    "OUTPUT_FOLDER = \"oci://{bucket}@{namespace}/sdxl/output/\".format(bucket=BUCKET_NAME, namespace=OBJECT_STORAGE_NAMESPACE)\n",
    "CONDA_ENV = \"onnx110_p39_cpu_v1\""
   ]
  },
  {
   "cell_type": "code",
   "execution_count": null,
   "id": "2701d638",
   "metadata": {},
   "outputs": [],
   "source": [
    "if not os.path.exists(\"/home/datascience/job_artifact/kohya_ss\"):\n",
    "    !git clone https://github.com/bmaltais/kohya_ss.git /home/datascience/job_artifact/kohya_ss\n",
    "\n",
    "!cp /home/datascience/repos/carlgira/oci-tf-odsc-sdxl/app/stable_main.py /home/datascience/job_artifact/"
   ]
  },
  {
   "cell_type": "code",
   "execution_count": null,
   "id": "88dd740d-1d1b-4e36-9dd4-eb0732fa3ce6",
   "metadata": {},
   "outputs": [],
   "source": [
    "from ads.jobs import Job, DataScienceJob, PythonRuntime\n",
    "\n",
    "job = (\n",
    "    Job(name=\"sdxl-train-job\")\n",
    "    .with_infrastructure(\n",
    "        DataScienceJob()\n",
    "        .with_log_group_id(LOG_GROUP_ID)\n",
    "        .with_log_id(LOG_ID)\n",
    "        .with_shape_name(\"VM.GPU2.1\")\n",
    "    )\n",
    "    .with_runtime(\n",
    "        PythonRuntime()\n",
    "        .with_service_conda(CONDA_ENV)\n",
    "        .with_source(\"/home/datascience/job_artifact/\")\n",
    "        .with_entrypoint(\"stable_main.py\")\n",
    "        .with_working_dir(\"job_artifact\")\n",
    "        .with_environment_variable(full_input_folder=INPUT_FOLDER)\n",
    "        .with_output(\"./output\", OUTPUT_FOLDER)\n",
    "    )\n",
    ")\n",
    "\n",
    "job.create()"
   ]
  },
  {
   "cell_type": "code",
   "execution_count": null,
   "id": "d4f3f367",
   "metadata": {},
   "outputs": [],
   "source": [
    "job_run_env = job.run(\n",
    "    name=\"Job Run - Passing dynamic values\",\n",
    "    env_var={'full_input_folder': INPUT_FOLDER}\n",
    ")\n",
    "#job_run_watch = job_run_env.watch()"
   ]
  },
  {
   "cell_type": "code",
   "execution_count": null,
   "id": "e90282ff",
   "metadata": {},
   "outputs": [],
   "source": [
    "%%capture\n",
    "import os\n",
    "from ads.model.generic_model import GenericModel\n",
    "\n",
    "fs = ocifs.OCIFileSystem()\n",
    "\n",
    "comfyui = \"ComfyUI\"\n",
    "if not os.path.exists(comfyui):\n",
    "    !git clone https://github.com/comfyanonymous/ComfyUI\n",
    "\n",
    "if not os.path.exists(\"ComfyUI/models/loras/sks.safetensors\"):\n",
    "    fs.invalidate_cache(OUTPUT_FOLDER)\n",
    "    fs.get(OUTPUT_FOLDER + \"sks.safetensors\", comfyui + \"/models/loras/\" , recursive=True, refresh=True)\n",
    "    \n",
    "if not os.path.exists(\"ComfyUI/models/checkpoints/sd_xl_base_1.0.safetensors\"):\n",
    "    !wget -O ComfyUI/models/checkpoints/sd_xl_base_1.0.safetensors https://huggingface.co/stabilityai/stable-diffusion-xl-base-1.0/resolve/main/sd_xl_base_1.0.safetensors\n",
    "\n",
    "\n",
    "if not os.path.exists(\"ComfyUI/venv\"):\n",
    "    ! cd ComfyUI && pip install torch torchvision torchaudio --extra-index-url https://download.pytorch.org/whl/cu118 xformers && pip install -r requirements.txt\n"
   ]
  },
  {
   "cell_type": "code",
   "execution_count": null,
   "id": "4a6a90a3",
   "metadata": {},
   "outputs": [],
   "source": [
    "import threading\n",
    "import subprocess\n",
    "\n",
    "def start_comfyui():\n",
    "    subprocess.run([\"python3\", \"ComfyUI/main.py\"])\n",
    "\n",
    "thread_1 = threading.Thread(target=start_comfyui)\n",
    "thread_1.start()"
   ]
  },
  {
   "cell_type": "code",
   "execution_count": null,
   "id": "28a9967f",
   "metadata": {},
   "outputs": [],
   "source": [
    "import inference\n",
    "import matplotlib.pyplot as plt\n",
    "img = inference.generate_image('portrait sks, pencil')\n",
    "plt.axis('off')\n",
    "plt.imshow(img)"
   ]
  }
 ],
 "metadata": {
  "kernelspec": {
   "display_name": "Python 3 (ipykernel)",
   "language": "python",
   "name": "python3"
  },
  "language_info": {
   "codemirror_mode": {
    "name": "ipython",
    "version": 3
   },
   "file_extension": ".py",
   "mimetype": "text/x-python",
   "name": "python",
   "nbconvert_exporter": "python",
   "pygments_lexer": "ipython3",
   "version": "3.11.3"
  }
 },
 "nbformat": 4,
 "nbformat_minor": 5
}
