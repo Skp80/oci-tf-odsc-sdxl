{
 "cells": [
  {
   "cell_type": "markdown",
   "id": "3f87a275",
   "metadata": {},
   "source": [
    "# Fine stable diffusion XL"
   ]
  },
  {
   "cell_type": "code",
   "execution_count": null,
   "id": "88dd740d-1d1b-4e36-9dd4-eb0732fa3ce6",
   "metadata": {},
   "outputs": [],
   "source": [
    "from ads.jobs import Job, DataScienceJob, PythonRuntime\n",
    "\n",
    "job = (\n",
    "    Job(name=\"My Job\")\n",
    "    .with_infrastructure(\n",
    "        DataScienceJob()\n",
    "        # Configure logging for getting the job run outputs.\n",
    "        .with_log_group_id(\"<log_group_ocid>\")\n",
    "        # Log resource will be auto-generated if log ID is not specified.\n",
    "        .with_log_id(\"<log_ocid>\")\n",
    "        # If you are in an OCI data science notebook session,\n",
    "        # the following configurations are not required.\n",
    "        # Configurations from the notebook session will be used as defaults.\n",
    "        .with_compartment_id(\"<compartment_ocid>\")\n",
    "        .with_project_id(\"<project_ocid>\")\n",
    "        .with_subnet_id(\"<subnet_ocid>\")\n",
    "        .with_shape_name(\"VM.Standard.E3.Flex\")\n",
    "        # Shape config details are applicable only for the flexible shapes.\n",
    "        .with_shape_config_details(memory_in_gbs=16, ocpus=1)\n",
    "        # Minimum/Default block storage size is 50 (GB).\n",
    "        .with_block_storage_size(50)\n",
    "    )\n",
    "    .with_runtime(\n",
    "        PythonRuntime()\n",
    "        # Specify the service conda environment by slug name.\n",
    "        .with_service_conda(\"pytorch110_p38_cpu_v1\")\n",
    "        # The job artifact can be a single Python script, a directory or a zip file.\n",
    "        .with_source(\"local/path/to/code_dir\")\n",
    "        # Environment variable\n",
    "        .with_environment_variable(NAME=\"Welcome to OCI Data Science.\")\n",
    "        # Command line argument, arg1 --key arg2\n",
    "        .with_argument(\"arg1\", key=\"arg2\")\n",
    "        # Set the working directory\n",
    "        # When using a directory as source, the default working dir is the parent of code_dir.\n",
    "        # Working dir should be a relative path beginning from the source directory (code_dir)\n",
    "        .with_working_dir(\"code_dir\")\n",
    "        # The entrypoint is applicable only to directory or zip file as source\n",
    "        # The entrypoint should be a path relative to the working dir.\n",
    "        # Here my_script.py is a file in the code_dir/my_package directory\n",
    "        .with_entrypoint(\"my_package/my_script.py\")\n",
    "        # Add an additional Python path, relative to the working dir (code_dir/other_packages).\n",
    "        .with_python_path(\"other_packages\")\n",
    "        # Copy files in \"code_dir/output\" to object storage after job finishes.\n",
    "        .with_output(\"output\", \"oci://bucket_name@namespace/path/to/dir\")\n",
    "    )\n",
    ")"
   ]
  }
 ],
 "metadata": {
  "kernelspec": {
   "display_name": "Python 3 (ipykernel)",
   "language": "python",
   "name": "python3"
  },
  "language_info": {
   "codemirror_mode": {
    "name": "ipython",
    "version": 3
   },
   "file_extension": ".py",
   "mimetype": "text/x-python",
   "name": "python",
   "nbconvert_exporter": "python",
   "pygments_lexer": "ipython3",
   "version": "3.11.3"
  }
 },
 "nbformat": 4,
 "nbformat_minor": 5
}
