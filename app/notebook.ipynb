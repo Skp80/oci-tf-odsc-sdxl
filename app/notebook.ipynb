{
 "cells": [
  {
   "cell_type": "markdown",
   "id": "3f87a275",
   "metadata": {},
   "source": [
    "# Fine stable diffusion XL"
   ]
  },
  {
   "cell_type": "code",
   "execution_count": null,
   "id": "c2d48908",
   "metadata": {},
   "outputs": [],
   "source": [
    "import ads\n",
    "import oci\n",
    "import os\n",
    "from oci.object_storage import ObjectStorageClient\n",
    "from datetime import datetime, timedelta\n",
    "\n",
    "ads.set_auth(auth='resource_principal')\n",
    "rps = oci.auth.signers.get_resource_principals_signer()\n",
    "\n",
    "# Object storage client\n",
    "object_storage_client = ObjectStorageClient(config={}, signer=rps)\n",
    "OBJECT_STORAGE_NAMESPACE = object_storage_client.get_namespace().data\n",
    "\n",
    "os.environ['namespace'] = OBJECT_STORAGE_NAMESPACE\n",
    "LOG_GROUP_ID = os.environ['loggroup_ocid']\n",
    "LOG_ID = os.environ['log_ocid']\n",
    "BUCKET_NAME = os.environ['bucket_name']\n",
    "\n",
    "INPUT_FOLDER = \"oci://{bucket}@{namespace}/sdxl/input/\".format(bucket=BUCKET_NAME, namespace=OBJECT_STORAGE_NAMESPACE)\n"
   ]
  },
  {
   "cell_type": "code",
   "execution_count": null,
   "id": "62b70d77",
   "metadata": {},
   "outputs": [],
   "source": [
    "import ocifs\n",
    "fs = ocifs.OCIFileSystem()\n",
    "fs.makedir('sdxl/input', create_parents=True)\n",
    "fs.makedir('sdxl/output', create_parents=True)"
   ]
  },
  {
   "cell_type": "code",
   "execution_count": null,
   "id": "2701d638",
   "metadata": {},
   "outputs": [],
   "source": [
    "\n",
    "!git clone https://github.com/bmaltais/kohya_ss.git /home/datascience/job_artifact/kohya_ss\n",
    "!odsc conda install --s pytorch20_p39_gpu_v1\n",
    "!conda activate pytorch20_p39_gpu_v1\n",
    "!cd /home/datascience/job_artifact/kohya_ss && bash setup.sh\n",
    "!pip uninstall opencv-python && pip install opencv-python-headless # \n",
    "!odsc conda init -b $bucket_name -n $namespace -a resource_principal\n",
    "!odsc conda publish -s pytorch20_p39_gpu_v1 --force"
   ]
  },
  {
   "cell_type": "code",
   "execution_count": null,
   "id": "88dd740d-1d1b-4e36-9dd4-eb0732fa3ce6",
   "metadata": {},
   "outputs": [],
   "source": [
    "from ads.jobs import Job, DataScienceJob, PythonRuntime\n",
    "\n",
    "job = (\n",
    "    Job(name=\"sdxl-train-job\")\n",
    "    .with_infrastructure(\n",
    "        DataScienceJob()\n",
    "        .with_log_group_id(LOG_GROUP_ID)\n",
    "        .with_log_id(LOG_ID)\n",
    "        .with_shape_name(\"VM.GPU2.1\")\n",
    "    )\n",
    "    .with_runtime(\n",
    "        PythonRuntime()\n",
    "        .with_custom_conda(\"oci://{bucket}@{namespace}/conda_environments/gpu/PyTorch 2.0 for GPU on Python 3.9/1.0/pytorch20_p39_gpu_v1\".format(bucket=BUCKET_NAME, namespace=OBJECT_STORAGE_NAMESPACE))\n",
    "        .with_source(\"/home/datascience/job_artifact/\")\n",
    "        .with_entrypoint(\"stable_main.py\")\n",
    "        .with_working_dir(\"job_artifact\")\n",
    "        .with_environment_variable(full_input_folder=INPUT_FOLDER)\n",
    "        .with_output(\"./output\", \"oci://{bucket}@{namespace}/sdxl/output/\".format(bucket=BUCKET_NAME, namespace=OBJECT_STORAGE_NAMESPACE))\n",
    "    )\n",
    ")\n",
    "\n",
    "job.create()"
   ]
  },
  {
   "cell_type": "code",
   "execution_count": null,
   "id": "d4f3f367",
   "metadata": {},
   "outputs": [],
   "source": [
    "job_run_env = job.run(\n",
    "    name=\"Job Run - Passing dynamic values\",\n",
    "    env_var={'full_input_folder': INPUT_FOLDER}\n",
    ")\n",
    "\n",
    "job_run_watch = job_run_env.watch()"
   ]
  },
  {
   "cell_type": "code",
   "execution_count": null,
   "id": "e90282ff",
   "metadata": {},
   "outputs": [],
   "source": []
  }
 ],
 "metadata": {
  "kernelspec": {
   "display_name": "Python 3 (ipykernel)",
   "language": "python",
   "name": "python3"
  },
  "language_info": {
   "codemirror_mode": {
    "name": "ipython",
    "version": 3
   },
   "file_extension": ".py",
   "mimetype": "text/x-python",
   "name": "python",
   "nbconvert_exporter": "python",
   "pygments_lexer": "ipython3",
   "version": "3.11.3"
  }
 },
 "nbformat": 4,
 "nbformat_minor": 5
}
