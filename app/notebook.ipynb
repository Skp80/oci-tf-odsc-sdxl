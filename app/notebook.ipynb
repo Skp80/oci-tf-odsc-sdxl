{
 "cells": [
  {
   "cell_type": "markdown",
   "id": "3f87a275",
   "metadata": {},
   "source": [
    "# Fine stable diffusion XL"
   ]
  },
  {
   "cell_type": "code",
   "execution_count": null,
   "id": "c2d48908",
   "metadata": {},
   "outputs": [],
   "source": [
    "import ads\n",
    "import oci\n",
    "import os\n",
    "import ocifs\n",
    "from oci.object_storage import ObjectStorageClient\n",
    "from datetime import datetime, timedelta\n",
    "\n",
    "ads.set_auth(auth='resource_principal')\n",
    "rps = oci.auth.signers.get_resource_principals_signer()\n",
    "\n",
    "# Object storage client\n",
    "object_storage_client = ObjectStorageClient(config={}, signer=rps)\n",
    "OBJECT_STORAGE_NAMESPACE = object_storage_client.get_namespace().data\n",
    "\n",
    "os.environ['namespace'] = OBJECT_STORAGE_NAMESPACE\n",
    "LOG_GROUP_ID = os.environ['loggroup_ocid']\n",
    "LOG_ID = os.environ['log_ocid']\n",
    "BUCKET_NAME = os.environ['bucket_name']\n",
    "\n",
    "INPUT_FOLDER = \"oci://{bucket}@{namespace}/sdxl/input/\".format(bucket=BUCKET_NAME, namespace=OBJECT_STORAGE_NAMESPACE)\n",
    "OUTPUT_FOLDER = \"oci://{bucket}@{namespace}/sdxl/output/\".format(bucket=BUCKET_NAME, namespace=OBJECT_STORAGE_NAMESPACE)\n",
    "\n",
    "CONDA_ENV = \"oci://{bucket}@{namespace}/conda_environments/cpu/ONNX 1.10 for CPU on Python 3.9/1.0/onnx110_p39_cpu_v1\".format(bucket=BUCKET_NAME, namespace=OBJECT_STORAGE_NAMESPACE)"
   ]
  },
  {
   "cell_type": "code",
   "execution_count": null,
   "id": "2701d638",
   "metadata": {},
   "outputs": [],
   "source": [
    "!git clone https://github.com/bmaltais/kohya_ss.git /home/datascience/job_artifact/kohya_ss\n",
    "!odsc conda install -s onnx110_p39_cpu_v1\n",
    "!conda init bash\n",
    "!source ~/.bashrc && conda activate /home/datascience/conda/onnx110_p39_cpu_v1 && cd /home/datascience/job_artifact/kohya_ss && bash setup.sh \n",
    "!odsc conda init -b $bucket_name -n $namespace -a resource_principal\n",
    "!rm -rf /home/datascience/conda/onnx110_p39_cpu_v1/lib/python3.9/site-packages/library.pth\n",
    "!odsc conda publish -s onnx110_p39_cpu_v1 --force\n",
    "!cp /home/datascience/repos/carlgira/oci-tf-odsc-sdxl/app/stable_main.py /home/datascience/job_artifact/"
   ]
  },
  {
   "cell_type": "code",
   "execution_count": null,
   "id": "88dd740d-1d1b-4e36-9dd4-eb0732fa3ce6",
   "metadata": {},
   "outputs": [],
   "source": [
    "from ads.jobs import Job, DataScienceJob, PythonRuntime\n",
    "\n",
    "job = (\n",
    "    Job(name=\"sdxl-train-job\")\n",
    "    .with_infrastructure(\n",
    "        DataScienceJob()\n",
    "        .with_log_group_id(LOG_GROUP_ID)\n",
    "        .with_log_id(LOG_ID)\n",
    "        .with_shape_name(\"VM.GPU2.1\")\n",
    "    )\n",
    "    .with_runtime(\n",
    "        PythonRuntime()\n",
    "        .with_custom_conda(CONDA_ENV)\n",
    "        .with_source(\"/home/datascience/job_artifact/\")\n",
    "        .with_entrypoint(\"stable_main.py\")\n",
    "        .with_working_dir(\"job_artifact\")\n",
    "        .with_environment_variable(full_input_folder=INPUT_FOLDER)\n",
    "        .with_output(\"./output\", OUTPUT_FOLDER)\n",
    "    )\n",
    ")\n",
    "\n",
    "job.create()"
   ]
  },
  {
   "cell_type": "code",
   "execution_count": null,
   "id": "d4f3f367",
   "metadata": {},
   "outputs": [],
   "source": [
    "job_run_env = job.run(\n",
    "    name=\"Job Run - Passing dynamic values\",\n",
    "    env_var={'full_input_folder': INPUT_FOLDER}\n",
    ")\n",
    "#job_run_watch = job_run_env.watch()"
   ]
  },
  {
   "cell_type": "code",
   "execution_count": null,
   "id": "e90282ff",
   "metadata": {},
   "outputs": [],
   "source": [
    "import os\n",
    "from ads.model.generic_model import GenericModel\n",
    "\n",
    "fs = ocifs.OCIFileSystem()\n",
    "\n",
    "print(1)\n",
    "if not os.path.exists(\"/home/datascience/model_artifact\"):\n",
    "    !git clone https://github.com/comfyanonymous/ComfyUI /home/datascience/model_artifact\n",
    "\n",
    "print(2)\n",
    "path_to_model_artifacts = \"/home/datascience/model_artifact/\"\n",
    "generic_model = GenericModel(artifact_dir=path_to_model_artifacts)\n",
    "generic_model.summary_status()\n",
    "\n",
    "# Autogenerate score.py, pickled model, runtime.yaml, input_schema.json and output_schema.json\n",
    "generic_model.prepare(\n",
    "        inference_conda_env=CONDA_ENV,\n",
    "        model_file_name=\"sks.safetensors\",\n",
    "        force_overwrite=True)\n",
    "\n",
    "\n",
    "print(3)\n",
    "if not os.path.exists(\"/home/datascience/model_artifact/sks.safetensors\"):\n",
    "    fs.invalidate_cache(OUTPUT_FOLDER)\n",
    "    fs.get(OUTPUT_FOLDER + \"sks.safetensors\", path_to_model_artifacts , recursive=True, refresh=True)\n",
    "\n",
    "print(4)\n",
    "!cp /home/datascience/repos/carlgira/oci-tf-odsc-sdxl/app/score.py /home/datascience/model_artifact\n",
    "\n"
   ]
  },
  {
   "cell_type": "code",
   "execution_count": null,
   "id": "5f64ee91",
   "metadata": {},
   "outputs": [],
   "source": [
    "project_id = os.environ['PROJECT_OCID'] \n",
    "compartment_id = os.environ['NB_SESSION_COMPARTMENT_OCID']\n",
    "\n",
    "model_id = generic_model.save(display_name=\"sdxl-fine-tuned\", timeout=1800)"
   ]
  },
  {
   "cell_type": "code",
   "execution_count": null,
   "id": "4a6a90a3",
   "metadata": {},
   "outputs": [],
   "source": [
    "generic_model.deploy(\n",
    "    display_name=\"sdxl-model\",\n",
    "    deployment_log_group_id=LOG_GROUP_ID,\n",
    "    deployment_predict_log_id=LOG_ID,\n",
    "    deployment_instance_shape=\"VM.GPU2.1\",\n",
    ")"
   ]
  },
  {
   "cell_type": "code",
   "execution_count": null,
   "id": "28a9967f",
   "metadata": {},
   "outputs": [],
   "source": [
    "generic_model.predict(\"prompt\")"
   ]
  }
 ],
 "metadata": {
  "kernelspec": {
   "display_name": "Python 3 (ipykernel)",
   "language": "python",
   "name": "python3"
  },
  "language_info": {
   "codemirror_mode": {
    "name": "ipython",
    "version": 3
   },
   "file_extension": ".py",
   "mimetype": "text/x-python",
   "name": "python",
   "nbconvert_exporter": "python",
   "pygments_lexer": "ipython3",
   "version": "3.11.3"
  }
 },
 "nbformat": 4,
 "nbformat_minor": 5
}
